{
 "cells": [
  {
   "cell_type": "markdown",
   "id": "b046bdee",
   "metadata": {},
   "source": [
    "## Decision Trees\n",
    "\n",
    "In this latest 'build your own ML model' I am going to tackle decision trees. Like always with these blogs, the aim is not to build the most accurate and well tuned model, but to understand the process behind building the model, how the model makes predictions and how the tuning of the model works, furthermore what I've shown here is likely far from the most efficient and robust way of code the model, for example it would break with different data inputs and would be much more useable if built as a Class, but again this is not the goal. As a result, when using in built modelling packages and deploying models I have a fundamental understanding of what the models are doing."
   ]
  },
  {
   "attachments": {
    "image.png": {
     "image/png": "[encoded data removed]"
    }
   },
   "cell_type": "markdown",
   "id": "9f1086b4",
   "metadata": {},
   "source": [
    "Usually with these blogs I work through the coding first and then write the blog after, with a complete solution. However, in this case I thought it would be interesting to work through my thought process step by step, since I slowly built this model up by starting very basic and getting quite complex.\n",
    "\n",
    "To create a decision tree we need to go through the process of recursive binary splitting, in which we choose to split the data into two 'nodes' each of which predict the class as the mode class of that node. To start I am going to do this on a simple binary classification problem with one predictor. \n",
    "\n",
    "To perform the recursive binary splitting we need to find the value of cutpoint 's' in the range of our predictor X that minimizes the Gini index:\n",
    "![image.png](attachment:image.png)\n",
    "Where p_mk is the propotion off training observations in the mth region that are from the kth class. In the Introduction to Statistical Learning by Gareth James et al. (ISLP) it is not clear how to aggregate the Gini Index across the new nodes but subsequent Googling I have found we need to minimize the weighted average of the Gini Index of the two new nodes, weighted by the number of training observations, which intuitively makes sense. Let's start with the Iris dataset and select on class and one predictor:"
   ]
  },
  {
   "cell_type": "code",
   "execution_count": 1,
   "id": "560a2d0d",
   "metadata": {
    "scrolled": true
   },
   "outputs": [
    {
     "data": {
      "text/html": [
       "<div>\n",
       "<style scoped>\n",
       "    .dataframe tbody tr th:only-of-type {\n",
       "        vertical-align: middle;\n",
       "    }\n",
       "\n",
       "    .dataframe tbody tr th {\n",
       "        vertical-align: top;\n",
       "    }\n",
       "\n",
       "    .dataframe thead th {\n",
       "        text-align: right;\n",
       "    }\n",
       "</style>\n",
       "<table border=\"1\" class=\"dataframe\">\n",
       "  <thead>\n",
       "    <tr style=\"text-align: right;\">\n",
       "      <th></th>\n",
       "      <th>sepal length (cm)</th>\n",
       "      <th>sepal width (cm)</th>\n",
       "      <th>petal length (cm)</th>\n",
       "      <th>petal width (cm)</th>\n",
       "    </tr>\n",
       "  </thead>\n",
       "  <tbody>\n",
       "    <tr>\n",
       "      <th>0</th>\n",
       "      <td>5.1</td>\n",
       "      <td>3.5</td>\n",
       "      <td>1.4</td>\n",
       "      <td>0.2</td>\n",
       "    </tr>\n",
       "    <tr>\n",
       "      <th>1</th>\n",
       "      <td>4.9</td>\n",
       "      <td>3.0</td>\n",
       "      <td>1.4</td>\n",
       "      <td>0.2</td>\n",
       "    </tr>\n",
       "    <tr>\n",
       "      <th>2</th>\n",
       "      <td>4.7</td>\n",
       "      <td>3.2</td>\n",
       "      <td>1.3</td>\n",
       "      <td>0.2</td>\n",
       "    </tr>\n",
       "    <tr>\n",
       "      <th>3</th>\n",
       "      <td>4.6</td>\n",
       "      <td>3.1</td>\n",
       "      <td>1.5</td>\n",
       "      <td>0.2</td>\n",
       "    </tr>\n",
       "    <tr>\n",
       "      <th>4</th>\n",
       "      <td>5.0</td>\n",
       "      <td>3.6</td>\n",
       "      <td>1.4</td>\n",
       "      <td>0.2</td>\n",
       "    </tr>\n",
       "  </tbody>\n",
       "</table>\n",
       "</div>"
      ],
      "text/plain": [
       "   sepal length (cm)  sepal width (cm)  petal length (cm)  petal width (cm)\n",
       "0                5.1               3.5                1.4               0.2\n",
       "1                4.9               3.0                1.4               0.2\n",
       "2                4.7               3.2                1.3               0.2\n",
       "3                4.6               3.1                1.5               0.2\n",
       "4                5.0               3.6                1.4               0.2"
      ]
     },
     "execution_count": 1,
     "metadata": {},
     "output_type": "execute_result"
    }
   ],
   "source": [
    "import pandas as pd\n",
    "import numpy as np\n",
    "from sklearn.datasets import load_iris\n",
    "df = load_iris(as_frame=True)\n",
    "df.data.head()"
   ]
  },
  {
   "cell_type": "code",
   "execution_count": 2,
   "id": "4b462748",
   "metadata": {
    "scrolled": true
   },
   "outputs": [
    {
     "data": {
      "text/plain": [
       "array(['setosa', 'versicolor', 'virginica'], dtype='<U10')"
      ]
     },
     "execution_count": 2,
     "metadata": {},
     "output_type": "execute_result"
    }
   ],
   "source": [
    "df.target_names"
   ]
  },
  {
   "cell_type": "markdown",
   "id": "60930e3c",
   "metadata": {},
   "source": [
    "Let's select our predictor as sepal length and class as versicolor (or not versicolor)."
   ]
  },
  {
   "cell_type": "code",
   "execution_count": 3,
   "id": "c08b7821",
   "metadata": {},
   "outputs": [],
   "source": [
    "X = df.data[\"sepal length (cm)\"]\n",
    "y = (df.target == 1) * 1"
   ]
  },
  {
   "cell_type": "markdown",
   "id": "450d98d6",
   "metadata": {},
   "source": [
    "We need to find a value s in the range of X which minimizes the Gini Index. Let's build a function that takes inputs s, X and y that produces a Gini Index to be minimized for a single node and a weighting for that node, let's say less than s."
   ]
  },
  {
   "cell_type": "code",
   "execution_count": 4,
   "id": "78a83b3e",
   "metadata": {},
   "outputs": [],
   "source": [
    "def G_left(s, X, y):\n",
    "    y_1 = y[X <= s]\n",
    "    p_11 = sum(y_1 == 1)/len(y_1)\n",
    "    p_12 = sum(y_1 == 0)/len(y_1)\n",
    "    return (p_11*(1-p_11) + p_12*(1-p_12), len(y_1)/len(y))"
   ]
  },
  {
   "cell_type": "markdown",
   "id": "ce38db2c",
   "metadata": {},
   "source": [
    "Now let's do the same for greater than s and then combine them into a function to produce the weighted average."
   ]
  },
  {
   "cell_type": "code",
   "execution_count": 5,
   "id": "3d2aedef",
   "metadata": {},
   "outputs": [],
   "source": [
    "def G_right(s, X, y):\n",
    "    y_2 = y[X > s]\n",
    "    p_21 = sum(y_2 == 1)/len(y_2)\n",
    "    p_22 = sum(y_2 == 0)/len(y_2)\n",
    "    return (p_21*(1-p_21) + p_22*(1-p_22), len(y_2)/len(y))\n",
    "\n",
    "def G(s, X, y):\n",
    "    return G_left(s, X, y)[0] * G_left(s, X, y)[1] + G_right(s, X, y)[0] * G_right(s, X, y)[1]"
   ]
  },
  {
   "cell_type": "markdown",
   "id": "1b0f253f",
   "metadata": {},
   "source": [
    "To find s that minimizes G, let's run through all possible values of s that might split the training data. By doing this to two decimal places, we know we can cover every possible split of the data."
   ]
  },
  {
   "cell_type": "code",
   "execution_count": 6,
   "id": "b7368c33",
   "metadata": {},
   "outputs": [],
   "source": [
    "S = pd.DataFrame(np.arange(X.min(), X.max()-0.1, 0.01), columns=[\"s\"])"
   ]
  },
  {
   "cell_type": "markdown",
   "id": "832287fb",
   "metadata": {},
   "source": [
    "Then apply G to each possible s, and plot to find a minimum."
   ]
  },
  {
   "cell_type": "code",
   "execution_count": 7,
   "id": "1cd460eb",
   "metadata": {},
   "outputs": [],
   "source": [
    "S[\"G\"] = S[\"s\"].apply(G, args=(X,y))"
   ]
  },
  {
   "cell_type": "code",
   "execution_count": 8,
   "id": "c2154371",
   "metadata": {},
   "outputs": [
    {
     "data": {
      "text/plain": [
       "<Axes: xlabel='s', ylabel='G'>"
      ]
     },
     "execution_count": 8,
     "metadata": {},
     "output_type": "execute_result"
    },
    {
     "data": {
      "image/png": "[encoded data removed]",
      "text/plain": [
       "<Figure size 640x480 with 1 Axes>"
      ]
     },
     "metadata": {},
     "output_type": "display_data"
    }
   ],
   "source": [
    "import seaborn as sns\n",
    "sns.lineplot(data=S, x=\"s\", y=\"G\")"
   ]
  },
  {
   "cell_type": "code",
   "execution_count": 9,
   "id": "7b2190c0",
   "metadata": {},
   "outputs": [
    {
     "data": {
      "text/plain": [
       "5.45"
      ]
     },
     "execution_count": 9,
     "metadata": {},
     "output_type": "execute_result"
    }
   ],
   "source": [
    "s = round(S[S[\"G\"] == S[\"G\"].min()][\"s\"].median(),2)\n",
    "s"
   ]
  },
  {
   "cell_type": "markdown",
   "id": "2e998a76",
   "metadata": {},
   "source": [
    "Therefore s = 5.45 for our first split (I'm taking the median here to get a sensible split but any minimum would give us the same result). Let's test our first split by building a tree of depth 1 using SKLearn."
   ]
  },
  {
   "cell_type": "code",
   "execution_count": 10,
   "id": "470206c0",
   "metadata": {},
   "outputs": [],
   "source": [
    "from sklearn.tree import DecisionTreeClassifier, plot_tree\n",
    "clf = DecisionTreeClassifier(max_depth=1)"
   ]
  },
  {
   "cell_type": "code",
   "execution_count": 11,
   "id": "595520e4",
   "metadata": {},
   "outputs": [
    {
     "data": {
      "text/html": [
       "<style>#sk-container-id-1 {color: black;background-color: white;}#sk-container-id-1 pre{padding: 0;}#sk-container-id-1 div.sk-toggleable {background-color: white;}#sk-container-id-1 label.sk-toggleable__label {cursor: pointer;display: block;width: 100%;margin-bottom: 0;padding: 0.3em;box-sizing: border-box;text-align: center;}#sk-container-id-1 label.sk-toggleable__label-arrow:before {content: \"▸\";float: left;margin-right: 0.25em;color: #696969;}#sk-container-id-1 label.sk-toggleable__label-arrow:hover:before {color: black;}#sk-container-id-1 div.sk-estimator:hover label.sk-toggleable__label-arrow:before {color: black;}#sk-container-id-1 div.sk-toggleable__content {max-height: 0;max-width: 0;overflow: hidden;text-align: left;background-color: #f0f8ff;}#sk-container-id-1 div.sk-toggleable__content pre {margin: 0.2em;color: black;border-radius: 0.25em;background-color: #f0f8ff;}#sk-container-id-1 input.sk-toggleable__control:checked~div.sk-toggleable__content {max-height: 200px;max-width: 100%;overflow: auto;}#sk-container-id-1 input.sk-toggleable__control:checked~label.sk-toggleable__label-arrow:before {content: \"▾\";}#sk-container-id-1 div.sk-estimator input.sk-toggleable__control:checked~label.sk-toggleable__label {background-color: #d4ebff;}#sk-container-id-1 div.sk-label input.sk-toggleable__control:checked~label.sk-toggleable__label {background-color: #d4ebff;}#sk-container-id-1 input.sk-hidden--visually {border: 0;clip: rect(1px 1px 1px 1px);clip: rect(1px, 1px, 1px, 1px);height: 1px;margin: -1px;overflow: hidden;padding: 0;position: absolute;width: 1px;}#sk-container-id-1 div.sk-estimator {font-family: monospace;background-color: #f0f8ff;border: 1px dotted black;border-radius: 0.25em;box-sizing: border-box;margin-bottom: 0.5em;}#sk-container-id-1 div.sk-estimator:hover {background-color: #d4ebff;}#sk-container-id-1 div.sk-parallel-item::after {content: \"\";width: 100%;border-bottom: 1px solid gray;flex-grow: 1;}#sk-container-id-1 div.sk-label:hover label.sk-toggleable__label {background-color: #d4ebff;}#sk-container-id-1 div.sk-serial::before {content: \"\";position: absolute;border-left: 1px solid gray;box-sizing: border-box;top: 0;bottom: 0;left: 50%;z-index: 0;}#sk-container-id-1 div.sk-serial {display: flex;flex-direction: column;align-items: center;background-color: white;padding-right: 0.2em;padding-left: 0.2em;position: relative;}#sk-container-id-1 div.sk-item {position: relative;z-index: 1;}#sk-container-id-1 div.sk-parallel {display: flex;align-items: stretch;justify-content: center;background-color: white;position: relative;}#sk-container-id-1 div.sk-item::before, #sk-container-id-1 div.sk-parallel-item::before {content: \"\";position: absolute;border-left: 1px solid gray;box-sizing: border-box;top: 0;bottom: 0;left: 50%;z-index: -1;}#sk-container-id-1 div.sk-parallel-item {display: flex;flex-direction: column;z-index: 1;position: relative;background-color: white;}#sk-container-id-1 div.sk-parallel-item:first-child::after {align-self: flex-end;width: 50%;}#sk-container-id-1 div.sk-parallel-item:last-child::after {align-self: flex-start;width: 50%;}#sk-container-id-1 div.sk-parallel-item:only-child::after {width: 0;}#sk-container-id-1 div.sk-dashed-wrapped {border: 1px dashed gray;margin: 0 0.4em 0.5em 0.4em;box-sizing: border-box;padding-bottom: 0.4em;background-color: white;}#sk-container-id-1 div.sk-label label {font-family: monospace;font-weight: bold;display: inline-block;line-height: 1.2em;}#sk-container-id-1 div.sk-label-container {text-align: center;}#sk-container-id-1 div.sk-container {/* jupyter's `normalize.less` sets `[hidden] { display: none; }` but bootstrap.min.css set `[hidden] { display: none !important; }` so we also need the `!important` here to be able to override the default hidden behavior on the sphinx rendered scikit-learn.org. See: https://github.com/scikit-learn/scikit-learn/issues/21755 */display: inline-block !important;position: relative;}#sk-container-id-1 div.sk-text-repr-fallback {display: none;}</style><div id=\"sk-container-id-1\" class=\"sk-top-container\"><div class=\"sk-text-repr-fallback\"><pre>DecisionTreeClassifier(max_depth=1)</pre><b>In a Jupyter environment, please rerun this cell to show the HTML representation or trust the notebook. <br />On GitHub, the HTML representation is unable to render, please try loading this page with nbviewer.org.</b></div><div class=\"sk-container\" hidden><div class=\"sk-item\"><div class=\"sk-estimator sk-toggleable\"><input class=\"sk-toggleable__control sk-hidden--visually\" id=\"sk-estimator-id-1\" type=\"checkbox\" checked><label for=\"sk-estimator-id-1\" class=\"sk-toggleable__label sk-toggleable__label-arrow\">DecisionTreeClassifier</label><div class=\"sk-toggleable__content\"><pre>DecisionTreeClassifier(max_depth=1)</pre></div></div></div></div></div>"
      ],
      "text/plain": [
       "DecisionTreeClassifier(max_depth=1)"
      ]
     },
     "execution_count": 11,
     "metadata": {},
     "output_type": "execute_result"
    }
   ],
   "source": [
    "clf.fit(np.array(X).reshape(-1,1),y)"
   ]
  },
  {
   "cell_type": "code",
   "execution_count": 12,
   "id": "617e5d4a",
   "metadata": {},
   "outputs": [
    {
     "data": {
      "text/plain": [
       "[Text(0.5, 0.75, 'x[0] <= 5.45\\ngini = 0.444\\nsamples = 150\\nvalue = [100, 50]'),\n",
       " Text(0.25, 0.25, 'gini = 0.204\\nsamples = 52\\nvalue = [46, 6]'),\n",
       " Text(0.75, 0.25, 'gini = 0.495\\nsamples = 98\\nvalue = [54, 44]')]"
      ]
     },
     "execution_count": 12,
     "metadata": {},
     "output_type": "execute_result"
    },
    {
     "data": {
      "image/png": "[encoded data removed]",
      "text/plain": [
       "<Figure size 640x480 with 1 Axes>"
      ]
     },
     "metadata": {},
     "output_type": "display_data"
    }
   ],
   "source": [
    "plot_tree(clf)"
   ]
  },
  {
   "cell_type": "markdown",
   "id": "b2f8be23",
   "metadata": {},
   "source": [
    "Here we see our split matches the split scikit learn gives us and below we show our resulting Gini Indices match too."
   ]
  },
  {
   "cell_type": "code",
   "execution_count": 13,
   "id": "316055e7",
   "metadata": {
    "scrolled": true
   },
   "outputs": [
    {
     "data": {
      "text/plain": [
       "(0.20414201183431957, 0.49479383590170756)"
      ]
     },
     "execution_count": 13,
     "metadata": {},
     "output_type": "execute_result"
    }
   ],
   "source": [
    "G_left(5.45, X, y)[0], G_right(5.45, X, y)[0]"
   ]
  },
  {
   "cell_type": "markdown",
   "id": "dec56e60",
   "metadata": {},
   "source": [
    "The next challenge is to do this recursively until some kind of stopping criteria, while storing the results. A common stopping criteria (or pre-pruning method) is to split nodes if they have some minimum number of training data points and probably easier to code than max-depth right now. "
   ]
  },
  {
   "cell_type": "markdown",
   "id": "5312d199",
   "metadata": {},
   "source": [
    "My idea is to create an object that contains the nodes of the training dataset as we split it up, until these nodes come to represent the leaf nodes, call this the node_set. This will start out just being the whole training data and target as a tuple. I will want to record the size of each node (node_set_count) as well the split value s for each node that is split (node_split). I define the starter values for each of these objects below."
   ]
  },
  {
   "cell_type": "code",
   "execution_count": 14,
   "id": "5f920a17",
   "metadata": {},
   "outputs": [],
   "source": [
    "node_set = [(X,y)]\n",
    "node_set_count = [len(node[0]) for node in node_set]\n",
    "node_split = []"
   ]
  },
  {
   "cell_type": "markdown",
   "id": "1214fdea",
   "metadata": {},
   "source": [
    "For this to work I need to be able to select the nodes in the node set that still have more observations than the minimum split. To do this I have defined a function that will order the node set by the number of observations in each node."
   ]
  },
  {
   "cell_type": "code",
   "execution_count": 15,
   "id": "498bc805",
   "metadata": {},
   "outputs": [],
   "source": [
    "def sort_by_size(node_set_count, node_set):\n",
    "    list_order = index_list = np.array(node_set_count).argsort().tolist()[::-1]\n",
    "    return [node_set[i] for i in list_order]"
   ]
  },
  {
   "cell_type": "markdown",
   "id": "c50e2e9f",
   "metadata": {},
   "source": [
    "Finally, I will create the recursion that runs until all nodes have less than (arbitrarily) 20 observations  and selects the largest node and sets the training_node and target_node objects that we will perform the split on. Calculates s that minimizes the Gini Index for that node as before and splits the selected training and target variables by s and puts them back into the node set. We record s in the node_split and recalculate the count of samples in each node to sort them in the next recursion. We end up with the leaf nodes in the node_set and each split s in the node_split."
   ]
  },
  {
   "cell_type": "code",
   "execution_count": 16,
   "id": "4ef07622",
   "metadata": {
    "scrolled": true
   },
   "outputs": [],
   "source": [
    "while max(node_set_count) >= 20: # Where 20 is the minimum samples in a node to split\n",
    "    \n",
    "    #Order the node set so that the recursion selects the largest to split\n",
    "    node_set = sort_by_size(node_set_count,node_set)\n",
    "    \n",
    "    # Select node to perform split on\n",
    "    training_node = node_set[0][0]\n",
    "    target_node = node_set[0][1]\n",
    "    \n",
    "    # Create all values of s that might produce a valid split\n",
    "    S = pd.DataFrame(np.arange(training_node.min(), training_node.max()-0.01, 0.01), columns=[\"s\"])\n",
    "    \n",
    "    # Calculate Gini Indices\n",
    "    S[\"G\"] = S[\"s\"].apply(G, args=(training_node, target_node))\n",
    "    \n",
    "    # Find s that minimizes G\n",
    "    s = round(S[S[\"G\"] == S[\"G\"].min()][\"s\"].median(),2)\n",
    "    \n",
    "    # Split the nodes training and target, remove the original node and add the new nodes to node_set\n",
    "    X1 = training_node[training_node <= s]\n",
    "    y1 = target_node[training_node <= s]\n",
    "    X2 = training_node[training_node > s]\n",
    "    y2 = target_node[training_node > s]\n",
    "    node_set.remove((training_node,target_node))\n",
    "    node_set.extend(((X1,y1),(X2,y2)))\n",
    "    \n",
    "    # Add split s and re-count the observations in each node set\n",
    "    node_split.append(s)\n",
    "    node_set_count = [len(i[0]) for i in node_set]"
   ]
  },
  {
   "cell_type": "markdown",
   "id": "50e61c48",
   "metadata": {},
   "source": [
    "Let's have a look at the splits we have calculated."
   ]
  },
  {
   "cell_type": "code",
   "execution_count": 17,
   "id": "82a94e76",
   "metadata": {
    "scrolled": false
   },
   "outputs": [
    {
     "data": {
      "text/plain": [
       "[5.45, 6.25, 4.85, 7.05, 5.65, 6.95, 6.55, 5.05, 5.85, 6.45, 5.15]"
      ]
     },
     "execution_count": 17,
     "metadata": {},
     "output_type": "execute_result"
    }
   ],
   "source": [
    "node_split"
   ]
  },
  {
   "cell_type": "markdown",
   "id": "7b278583",
   "metadata": {},
   "source": [
    "Again, let's compare to the decision tree produced by sklearn:"
   ]
  },
  {
   "cell_type": "code",
   "execution_count": 18,
   "id": "7532182f",
   "metadata": {},
   "outputs": [
    {
     "data": {
      "text/html": [
       "<style>#sk-container-id-2 {color: black;background-color: white;}#sk-container-id-2 pre{padding: 0;}#sk-container-id-2 div.sk-toggleable {background-color: white;}#sk-container-id-2 label.sk-toggleable__label {cursor: pointer;display: block;width: 100%;margin-bottom: 0;padding: 0.3em;box-sizing: border-box;text-align: center;}#sk-container-id-2 label.sk-toggleable__label-arrow:before {content: \"▸\";float: left;margin-right: 0.25em;color: #696969;}#sk-container-id-2 label.sk-toggleable__label-arrow:hover:before {color: black;}#sk-container-id-2 div.sk-estimator:hover label.sk-toggleable__label-arrow:before {color: black;}#sk-container-id-2 div.sk-toggleable__content {max-height: 0;max-width: 0;overflow: hidden;text-align: left;background-color: #f0f8ff;}#sk-container-id-2 div.sk-toggleable__content pre {margin: 0.2em;color: black;border-radius: 0.25em;background-color: #f0f8ff;}#sk-container-id-2 input.sk-toggleable__control:checked~div.sk-toggleable__content {max-height: 200px;max-width: 100%;overflow: auto;}#sk-container-id-2 input.sk-toggleable__control:checked~label.sk-toggleable__label-arrow:before {content: \"▾\";}#sk-container-id-2 div.sk-estimator input.sk-toggleable__control:checked~label.sk-toggleable__label {background-color: #d4ebff;}#sk-container-id-2 div.sk-label input.sk-toggleable__control:checked~label.sk-toggleable__label {background-color: #d4ebff;}#sk-container-id-2 input.sk-hidden--visually {border: 0;clip: rect(1px 1px 1px 1px);clip: rect(1px, 1px, 1px, 1px);height: 1px;margin: -1px;overflow: hidden;padding: 0;position: absolute;width: 1px;}#sk-container-id-2 div.sk-estimator {font-family: monospace;background-color: #f0f8ff;border: 1px dotted black;border-radius: 0.25em;box-sizing: border-box;margin-bottom: 0.5em;}#sk-container-id-2 div.sk-estimator:hover {background-color: #d4ebff;}#sk-container-id-2 div.sk-parallel-item::after {content: \"\";width: 100%;border-bottom: 1px solid gray;flex-grow: 1;}#sk-container-id-2 div.sk-label:hover label.sk-toggleable__label {background-color: #d4ebff;}#sk-container-id-2 div.sk-serial::before {content: \"\";position: absolute;border-left: 1px solid gray;box-sizing: border-box;top: 0;bottom: 0;left: 50%;z-index: 0;}#sk-container-id-2 div.sk-serial {display: flex;flex-direction: column;align-items: center;background-color: white;padding-right: 0.2em;padding-left: 0.2em;position: relative;}#sk-container-id-2 div.sk-item {position: relative;z-index: 1;}#sk-container-id-2 div.sk-parallel {display: flex;align-items: stretch;justify-content: center;background-color: white;position: relative;}#sk-container-id-2 div.sk-item::before, #sk-container-id-2 div.sk-parallel-item::before {content: \"\";position: absolute;border-left: 1px solid gray;box-sizing: border-box;top: 0;bottom: 0;left: 50%;z-index: -1;}#sk-container-id-2 div.sk-parallel-item {display: flex;flex-direction: column;z-index: 1;position: relative;background-color: white;}#sk-container-id-2 div.sk-parallel-item:first-child::after {align-self: flex-end;width: 50%;}#sk-container-id-2 div.sk-parallel-item:last-child::after {align-self: flex-start;width: 50%;}#sk-container-id-2 div.sk-parallel-item:only-child::after {width: 0;}#sk-container-id-2 div.sk-dashed-wrapped {border: 1px dashed gray;margin: 0 0.4em 0.5em 0.4em;box-sizing: border-box;padding-bottom: 0.4em;background-color: white;}#sk-container-id-2 div.sk-label label {font-family: monospace;font-weight: bold;display: inline-block;line-height: 1.2em;}#sk-container-id-2 div.sk-label-container {text-align: center;}#sk-container-id-2 div.sk-container {/* jupyter's `normalize.less` sets `[hidden] { display: none; }` but bootstrap.min.css set `[hidden] { display: none !important; }` so we also need the `!important` here to be able to override the default hidden behavior on the sphinx rendered scikit-learn.org. See: https://github.com/scikit-learn/scikit-learn/issues/21755 */display: inline-block !important;position: relative;}#sk-container-id-2 div.sk-text-repr-fallback {display: none;}</style><div id=\"sk-container-id-2\" class=\"sk-top-container\"><div class=\"sk-text-repr-fallback\"><pre>DecisionTreeClassifier(min_samples_split=20)</pre><b>In a Jupyter environment, please rerun this cell to show the HTML representation or trust the notebook. <br />On GitHub, the HTML representation is unable to render, please try loading this page with nbviewer.org.</b></div><div class=\"sk-container\" hidden><div class=\"sk-item\"><div class=\"sk-estimator sk-toggleable\"><input class=\"sk-toggleable__control sk-hidden--visually\" id=\"sk-estimator-id-2\" type=\"checkbox\" checked><label for=\"sk-estimator-id-2\" class=\"sk-toggleable__label sk-toggleable__label-arrow\">DecisionTreeClassifier</label><div class=\"sk-toggleable__content\"><pre>DecisionTreeClassifier(min_samples_split=20)</pre></div></div></div></div></div>"
      ],
      "text/plain": [
       "DecisionTreeClassifier(min_samples_split=20)"
      ]
     },
     "execution_count": 18,
     "metadata": {},
     "output_type": "execute_result"
    }
   ],
   "source": [
    "clf2 = DecisionTreeClassifier(min_samples_split=20)\n",
    "clf2.fit(np.array(X).reshape(-1,1),y)"
   ]
  },
  {
   "cell_type": "code",
   "execution_count": 19,
   "id": "7d5ea9ba",
   "metadata": {},
   "outputs": [],
   "source": [
    "threshold = clf2.tree_.threshold[clf2.tree_.threshold > 0].round(2)"
   ]
  },
  {
   "cell_type": "code",
   "execution_count": 20,
   "id": "784d3a0c",
   "metadata": {},
   "outputs": [
    {
     "data": {
      "text/plain": [
       "array([ True,  True,  True,  True,  True,  True,  True,  True,  True,\n",
       "        True,  True])"
      ]
     },
     "execution_count": 20,
     "metadata": {},
     "output_type": "execute_result"
    }
   ],
   "source": [
    "threshold.sort()\n",
    "node_split.sort()\n",
    "threshold == node_split"
   ]
  },
  {
   "cell_type": "markdown",
   "id": "d86bdfc9",
   "metadata": {},
   "source": [
    "We can see that our split values are the same. Since this is a decision tree with only one variable then our trees will be the same. I will go into predicting values later."
   ]
  },
  {
   "cell_type": "markdown",
   "id": "18f98861",
   "metadata": {},
   "source": [
    "Now to introduce other variables and classes."
   ]
  },
  {
   "cell_type": "code",
   "execution_count": 21,
   "id": "9eb97d54",
   "metadata": {},
   "outputs": [],
   "source": [
    "X1 = df.data[\"sepal length (cm)\"]\n",
    "X2 = df.data[\"sepal width (cm)\"]\n",
    "X3 = df.data[\"petal length (cm)\"]\n",
    "X4 = df.data[\"petal width (cm)\"]\n",
    "y = df.target"
   ]
  },
  {
   "cell_type": "markdown",
   "id": "37345fda",
   "metadata": {},
   "source": [
    "We must re-define our Gini Index functions to include the third class:"
   ]
  },
  {
   "cell_type": "code",
   "execution_count": 22,
   "id": "95afa0c7",
   "metadata": {},
   "outputs": [],
   "source": [
    "def G_left(s, X, y):\n",
    "    y_1 = y[X <= s]\n",
    "    p_11 = sum(y_1 == 1)/len(y_1)\n",
    "    p_12 = sum(y_1 == 0)/len(y_1)\n",
    "    p_13 = sum(y_1 == 2)/len(y_1)\n",
    "    return (p_11*(1-p_11) + p_12*(1-p_12) + p_13*(1-p_13), len(y_1)/len(y))\n",
    "\n",
    "def G_right(s, X, y):\n",
    "    y_2 = y[X > s]\n",
    "    p_21 = sum(y_2 == 1)/len(y_2)\n",
    "    p_22 = sum(y_2 == 0)/len(y_2)\n",
    "    p_23 = sum(y_2 == 2)/len(y_2)\n",
    "    return (p_21*(1-p_21) + p_22*(1-p_22) + p_23*(1-p_23), len(y_2)/len(y))\n",
    "\n",
    "def G(s, X, y):\n",
    "    return G_left(s, X, y)[0] * G_left(s, X, y)[1] + G_right(s, X, y)[0] * G_right(s, X, y)[1]"
   ]
  },
  {
   "cell_type": "markdown",
   "id": "78f7c017",
   "metadata": {},
   "source": [
    "When introducing the new variables I encountered some problems when recursively running through the node set, since I had nodes with many observations that were pure i.e. Gini Index of 0, but the algorithm was still trying to split. A better solution I found was to start with the same node set and move nodes to a new object called the node_set_final when they did not require extra splitting, i.e. they were pure or had below the minimum number of samples. This node set final comes to represent the leaf nodes of the final decision tree. The recursion then stops when the node set is empty."
   ]
  },
  {
   "cell_type": "markdown",
   "id": "e84d7707",
   "metadata": {},
   "source": [
    "Further modifications required in building the model with a number predictors are sorting through the Gini Indices of each predictor to find the minimum and selecting that predictor to split the node by. I have also recorded the predictor related to each split in the node_split object. Again, we have used the arbitrary minimum samples to split at 20."
   ]
  },
  {
   "cell_type": "code",
   "execution_count": 23,
   "id": "736da7e1",
   "metadata": {},
   "outputs": [],
   "source": [
    "# Define the node set, node split and the node set final\n",
    "node_set = [pd.DataFrame(np.array([X1,X2,X3,X4,y]).transpose(), columns=[\"X1\",\"X2\",\"X3\",\"X4\",\"y\"])]\n",
    "node_split = []\n",
    "node_set_final = []\n",
    "\n",
    "#Create the recursion to perform as long as there is still a node in the node set\n",
    "while len(node_set) > 0:\n",
    "    \n",
    "    # Select the first node in the node set to perform the split and remove it from the node set\n",
    "    # Define the training and target sets\n",
    "    node_select = node_set[0]\n",
    "    node_set.remove(node_select)\n",
    "    training_node = node_select[[\"X1\",\"X2\",\"X3\",\"X4\"]]\n",
    "    target_node = node_select[\"y\"]\n",
    "    \n",
    "    # Loop through the predictors creating all 100 possible values of s and calculate the Gini Index\n",
    "    S = pd.DataFrame()\n",
    "    for col in training_node.columns:\n",
    "        S[col] = np.linspace(training_node[col].min(), training_node[col].max(), 100, endpoint=False)\n",
    "        \n",
    "        # Gini index for predictor with one value is 0, but cannot split so ignore\n",
    "        if training_node[col].min() ==  training_node[col].max():\n",
    "            pass\n",
    "        else:\n",
    "            S[\"G\"+col] = S[col].apply(G, args=(training_node[col], target_node))\n",
    "    \n",
    "    # Select the column that contains the minimum Gini Index and calculate s\n",
    "    col_to_split = S.drop([\"X1\",\"X2\",\"X3\",\"X4\"], axis=1).min().idxmin()\n",
    "    s = round(S[S[col_to_split] == S[col_to_split].min()][col_to_split[-2:]].median(),2)\n",
    "    \n",
    "    # Check in the minimum Gini = 0, if so do not split and add node the the node_set_final\n",
    "    if S.drop([\"X1\",\"X2\",\"X3\",\"X4\"], axis=1).sum(axis=1).min() == 0:\n",
    "        node_set_final.append(node_select)\n",
    "        \n",
    "    # Else split the selected node by s to a right and left branch\n",
    "    else:\n",
    "        node_set_left = node_select[node_select[col_to_split[-2:]] >= s]\n",
    "        node_set_right = node_select[node_select[col_to_split[-2:]] < s]\n",
    "        \n",
    "        # If the minimum samples requirement is not met then add to final, if not add back to be split again\n",
    "        if len(node_set_left[\"X1\"]) < 20:\n",
    "            node_set_final.append(node_set_left)\n",
    "        else:\n",
    "            node_set.append(node_set_left)\n",
    "        if len(node_set_right[\"X1\"]) < 20:\n",
    "            node_set_final.append(node_set_right)\n",
    "        else:\n",
    "            node_set.append(node_set_right)\n",
    "\n",
    "        # Add the new split and predictor to node_split\n",
    "        node_split.append((col_to_split[-2:], s))"
   ]
  },
  {
   "cell_type": "markdown",
   "id": "e9ec691a",
   "metadata": {},
   "source": [
    "Let's have a look at our splits:"
   ]
  },
  {
   "cell_type": "code",
   "execution_count": 24,
   "id": "afecb41e",
   "metadata": {},
   "outputs": [
    {
     "data": {
      "text/plain": [
       "[('X3', 2.45), ('X4', 1.75), ('X3', 4.84), ('X3', 4.95), ('X4', 1.65)]"
      ]
     },
     "execution_count": 24,
     "metadata": {},
     "output_type": "execute_result"
    }
   ],
   "source": [
    "node_split"
   ]
  },
  {
   "cell_type": "markdown",
   "id": "8abb1a3c",
   "metadata": {},
   "source": [
    "And compare to the equivalent scikit learn model by plotting it:"
   ]
  },
  {
   "cell_type": "code",
   "execution_count": 25,
   "id": "a2666343",
   "metadata": {},
   "outputs": [
    {
     "data": {
      "text/html": [
       "<style>#sk-container-id-3 {color: black;background-color: white;}#sk-container-id-3 pre{padding: 0;}#sk-container-id-3 div.sk-toggleable {background-color: white;}#sk-container-id-3 label.sk-toggleable__label {cursor: pointer;display: block;width: 100%;margin-bottom: 0;padding: 0.3em;box-sizing: border-box;text-align: center;}#sk-container-id-3 label.sk-toggleable__label-arrow:before {content: \"▸\";float: left;margin-right: 0.25em;color: #696969;}#sk-container-id-3 label.sk-toggleable__label-arrow:hover:before {color: black;}#sk-container-id-3 div.sk-estimator:hover label.sk-toggleable__label-arrow:before {color: black;}#sk-container-id-3 div.sk-toggleable__content {max-height: 0;max-width: 0;overflow: hidden;text-align: left;background-color: #f0f8ff;}#sk-container-id-3 div.sk-toggleable__content pre {margin: 0.2em;color: black;border-radius: 0.25em;background-color: #f0f8ff;}#sk-container-id-3 input.sk-toggleable__control:checked~div.sk-toggleable__content {max-height: 200px;max-width: 100%;overflow: auto;}#sk-container-id-3 input.sk-toggleable__control:checked~label.sk-toggleable__label-arrow:before {content: \"▾\";}#sk-container-id-3 div.sk-estimator input.sk-toggleable__control:checked~label.sk-toggleable__label {background-color: #d4ebff;}#sk-container-id-3 div.sk-label input.sk-toggleable__control:checked~label.sk-toggleable__label {background-color: #d4ebff;}#sk-container-id-3 input.sk-hidden--visually {border: 0;clip: rect(1px 1px 1px 1px);clip: rect(1px, 1px, 1px, 1px);height: 1px;margin: -1px;overflow: hidden;padding: 0;position: absolute;width: 1px;}#sk-container-id-3 div.sk-estimator {font-family: monospace;background-color: #f0f8ff;border: 1px dotted black;border-radius: 0.25em;box-sizing: border-box;margin-bottom: 0.5em;}#sk-container-id-3 div.sk-estimator:hover {background-color: #d4ebff;}#sk-container-id-3 div.sk-parallel-item::after {content: \"\";width: 100%;border-bottom: 1px solid gray;flex-grow: 1;}#sk-container-id-3 div.sk-label:hover label.sk-toggleable__label {background-color: #d4ebff;}#sk-container-id-3 div.sk-serial::before {content: \"\";position: absolute;border-left: 1px solid gray;box-sizing: border-box;top: 0;bottom: 0;left: 50%;z-index: 0;}#sk-container-id-3 div.sk-serial {display: flex;flex-direction: column;align-items: center;background-color: white;padding-right: 0.2em;padding-left: 0.2em;position: relative;}#sk-container-id-3 div.sk-item {position: relative;z-index: 1;}#sk-container-id-3 div.sk-parallel {display: flex;align-items: stretch;justify-content: center;background-color: white;position: relative;}#sk-container-id-3 div.sk-item::before, #sk-container-id-3 div.sk-parallel-item::before {content: \"\";position: absolute;border-left: 1px solid gray;box-sizing: border-box;top: 0;bottom: 0;left: 50%;z-index: -1;}#sk-container-id-3 div.sk-parallel-item {display: flex;flex-direction: column;z-index: 1;position: relative;background-color: white;}#sk-container-id-3 div.sk-parallel-item:first-child::after {align-self: flex-end;width: 50%;}#sk-container-id-3 div.sk-parallel-item:last-child::after {align-self: flex-start;width: 50%;}#sk-container-id-3 div.sk-parallel-item:only-child::after {width: 0;}#sk-container-id-3 div.sk-dashed-wrapped {border: 1px dashed gray;margin: 0 0.4em 0.5em 0.4em;box-sizing: border-box;padding-bottom: 0.4em;background-color: white;}#sk-container-id-3 div.sk-label label {font-family: monospace;font-weight: bold;display: inline-block;line-height: 1.2em;}#sk-container-id-3 div.sk-label-container {text-align: center;}#sk-container-id-3 div.sk-container {/* jupyter's `normalize.less` sets `[hidden] { display: none; }` but bootstrap.min.css set `[hidden] { display: none !important; }` so we also need the `!important` here to be able to override the default hidden behavior on the sphinx rendered scikit-learn.org. See: https://github.com/scikit-learn/scikit-learn/issues/21755 */display: inline-block !important;position: relative;}#sk-container-id-3 div.sk-text-repr-fallback {display: none;}</style><div id=\"sk-container-id-3\" class=\"sk-top-container\"><div class=\"sk-text-repr-fallback\"><pre>DecisionTreeClassifier(min_samples_split=20)</pre><b>In a Jupyter environment, please rerun this cell to show the HTML representation or trust the notebook. <br />On GitHub, the HTML representation is unable to render, please try loading this page with nbviewer.org.</b></div><div class=\"sk-container\" hidden><div class=\"sk-item\"><div class=\"sk-estimator sk-toggleable\"><input class=\"sk-toggleable__control sk-hidden--visually\" id=\"sk-estimator-id-3\" type=\"checkbox\" checked><label for=\"sk-estimator-id-3\" class=\"sk-toggleable__label sk-toggleable__label-arrow\">DecisionTreeClassifier</label><div class=\"sk-toggleable__content\"><pre>DecisionTreeClassifier(min_samples_split=20)</pre></div></div></div></div></div>"
      ],
      "text/plain": [
       "DecisionTreeClassifier(min_samples_split=20)"
      ]
     },
     "execution_count": 25,
     "metadata": {},
     "output_type": "execute_result"
    }
   ],
   "source": [
    "clf3 = DecisionTreeClassifier(min_samples_split=20)\n",
    "clf3.fit(pd.DataFrame(np.array([X1,X2,X3,X4]).transpose(), columns=[\"X1\",\"X2\",\"X3\",\"X4\"]),y)"
   ]
  },
  {
   "cell_type": "code",
   "execution_count": 26,
   "id": "d839c88e",
   "metadata": {},
   "outputs": [
    {
     "data": {
      "text/plain": [
       "[Text(0.4444444444444444, 0.9, 'x[2] <= 2.45\\ngini = 0.667\\nsamples = 150\\nvalue = [50, 50, 50]'),\n",
       " Text(0.3333333333333333, 0.7, 'gini = 0.0\\nsamples = 50\\nvalue = [50, 0, 0]'),\n",
       " Text(0.5555555555555556, 0.7, 'x[3] <= 1.75\\ngini = 0.5\\nsamples = 100\\nvalue = [0, 50, 50]'),\n",
       " Text(0.3333333333333333, 0.5, 'x[2] <= 4.95\\ngini = 0.168\\nsamples = 54\\nvalue = [0, 49, 5]'),\n",
       " Text(0.2222222222222222, 0.3, 'x[3] <= 1.65\\ngini = 0.041\\nsamples = 48\\nvalue = [0, 47, 1]'),\n",
       " Text(0.1111111111111111, 0.1, 'gini = 0.0\\nsamples = 47\\nvalue = [0, 47, 0]'),\n",
       " Text(0.3333333333333333, 0.1, 'gini = 0.0\\nsamples = 1\\nvalue = [0, 0, 1]'),\n",
       " Text(0.4444444444444444, 0.3, 'gini = 0.444\\nsamples = 6\\nvalue = [0, 2, 4]'),\n",
       " Text(0.7777777777777778, 0.5, 'x[2] <= 4.85\\ngini = 0.043\\nsamples = 46\\nvalue = [0, 1, 45]'),\n",
       " Text(0.6666666666666666, 0.3, 'gini = 0.444\\nsamples = 3\\nvalue = [0, 1, 2]'),\n",
       " Text(0.8888888888888888, 0.3, 'gini = 0.0\\nsamples = 43\\nvalue = [0, 0, 43]')]"
      ]
     },
     "execution_count": 26,
     "metadata": {},
     "output_type": "execute_result"
    },
    {
     "data": {
      "image/png": "[encoded data removed]",
      "text/plain": [
       "<Figure size 640x480 with 1 Axes>"
      ]
     },
     "metadata": {},
     "output_type": "display_data"
    }
   ],
   "source": [
    "plot_tree(clf3)"
   ]
  },
  {
   "cell_type": "markdown",
   "id": "02b75b2b",
   "metadata": {},
   "source": [
    "Note, that sklearn's X[0] is equivalent to our X1. We can see the splits are the same (with a small rounding difference of 4.84 and 4.85)."
   ]
  },
  {
   "cell_type": "markdown",
   "id": "93dbabd3",
   "metadata": {},
   "source": [
    "The node splits alone are not sufficient to prove the models are equivalent since we have not recorded the order of splits i.e. which act on which branch, or the final prediction of each leaf node. For us that information is stored in the leaf nodes in the node_set_final. To predict results I will take an input and loop through the leaf nodes to check whether the observation would be in that leaf node, then make a prediction based on the modal class in that leaf node. The function below does this."
   ]
  },
  {
   "cell_type": "code",
   "execution_count": 27,
   "id": "35feff5e",
   "metadata": {},
   "outputs": [],
   "source": [
    "def predict(X, node_set_final):\n",
    "    prediction = []\n",
    "    for index, x in X.iterrows():\n",
    "        for node in node_set_final:\n",
    "            if (node[\"X3\"].min() <= x[\"X3\"] <= node[\"X3\"].max()) and (node[\"X4\"].min() <= x[\"X4\"] <= node[\"X4\"].max()):\n",
    "                prediction.append(node[\"y\"].mode()[0])\n",
    "    return np.array(prediction)"
   ]
  },
  {
   "cell_type": "markdown",
   "id": "15ea0645",
   "metadata": {},
   "source": [
    "I note, that this method does not account for any samples that land outside the ranges of the training observation or whether they land of the split boundary, however, it will do for now. Also note I have only included X3 and X4 as these are the only predictors that are used in this tree, a different tree would require some reformulation. Let's make predictions for our training data and compare to the sklearn model:"
   ]
  },
  {
   "cell_type": "code",
   "execution_count": 28,
   "id": "b52a6ade",
   "metadata": {},
   "outputs": [],
   "source": [
    "pred = predict(X=pd.DataFrame(pd.DataFrame(np.array([X1,X2,X3,X4,y]).transpose(), columns=[\"X1\",\"X2\",\"X3\",\"X4\",\"y\"])), node_set_final=node_set_final)"
   ]
  },
  {
   "cell_type": "code",
   "execution_count": 29,
   "id": "2e318042",
   "metadata": {},
   "outputs": [],
   "source": [
    "sk_pred = clf3.predict(pd.DataFrame(pd.DataFrame(np.array([X1,X2,X3,X4]).transpose(), columns=[\"X1\",\"X2\",\"X3\",\"X4\"])))"
   ]
  },
  {
   "cell_type": "code",
   "execution_count": 30,
   "id": "58952a15",
   "metadata": {
    "scrolled": false
   },
   "outputs": [
    {
     "data": {
      "text/plain": [
       "array([ True,  True,  True,  True,  True,  True,  True,  True,  True,\n",
       "        True,  True,  True,  True,  True,  True,  True,  True,  True,\n",
       "        True,  True,  True,  True,  True,  True,  True,  True,  True,\n",
       "        True,  True,  True,  True,  True,  True,  True,  True,  True,\n",
       "        True,  True,  True,  True,  True,  True,  True,  True,  True,\n",
       "        True,  True,  True,  True,  True,  True,  True,  True,  True,\n",
       "        True,  True,  True,  True,  True,  True,  True,  True,  True,\n",
       "        True,  True,  True,  True,  True,  True,  True,  True,  True,\n",
       "        True,  True,  True,  True,  True,  True,  True,  True,  True,\n",
       "        True,  True,  True,  True,  True,  True,  True,  True,  True,\n",
       "        True,  True,  True,  True,  True,  True,  True,  True,  True,\n",
       "        True,  True,  True,  True,  True,  True,  True,  True,  True,\n",
       "        True,  True,  True,  True,  True,  True,  True,  True,  True,\n",
       "        True,  True,  True,  True,  True,  True,  True,  True,  True,\n",
       "        True,  True,  True,  True,  True,  True,  True,  True,  True,\n",
       "        True,  True,  True,  True,  True,  True,  True,  True,  True,\n",
       "        True,  True,  True,  True,  True,  True])"
      ]
     },
     "execution_count": 30,
     "metadata": {},
     "output_type": "execute_result"
    }
   ],
   "source": [
    "sk_pred == pred"
   ]
  },
  {
   "cell_type": "markdown",
   "id": "b9a9529b",
   "metadata": {},
   "source": [
    "Hence our models are functioning equally on the training dataset. However, the lack of transparency of how our tree works and how the branches are structured means we can't be sure that the models are exactly the same. This is something I have corrected in the next section where I look into pruning the tree."
   ]
  },
  {
   "attachments": {
    "image-2.png": {
     "image/png": "[encoded data removed]"
    },
    "image.png": {
     "image/png": "[encoded data removed]"
    }
   },
   "cell_type": "markdown",
   "id": "c782557c",
   "metadata": {},
   "source": [
    "To prune our decision tree to avoid overfitting we are going to use cost-complexity pruning (or weakest-link pruning). I have followed the process as described in this [article]( http://mlwiki.org/index.php/Cost-Complexity_Pruning ). This method uses the regularized loss function:\n",
    "![image.png](attachment:image.png)\n",
    "To do this we need build a large overfitted tree with very high purity (call this T0) and then calculate:![image-2.png](attachment:image-2.png)\n",
    "For each node in our full tree. \n",
    "\n",
    "When alpha = 0 (= alpha0), the tree that minimizes our loss function is the initial tree T0. Once we have calculated g(t) for all nodes in T0, we set alpha1 = min(g(t)) (= g(t1)). For alpha from alpha0 to alpha1 the tree that minimizes our loss function is the tree that corresponds T0 pruned at the node t1. Call this tree T1. We then repeat the process on T1 to find the next value of alpha and corresponding tree that minimizes the loss function for that alpha.\n",
    "\n",
    "Let's perform this in steps. First we need to calculate the initial tree. Let's set the minimum samples as 2 so that we have a very low level of impurity. To aid future calculations I am going to add a few elements to our node_set_final and node_split outputs:\n",
    "\n",
    " - A 'route' element attached to each element in the node_set, making it a tuple, which takes the value of a 0 if it is a left split and 1 if it is a right split. This will result in a string of the form 01001 for a leaf node with a depth of 5 that has had 3 left splits and 2 right splits. This is also added to the node_split to identify the sequence of splits.\n",
    "  - We add a split_id to the node_split to help identify the order of splits, as well as the node_set_final to identify the split that resulted in the leaf node.\n",
    "  - We add the node training error which is the R(t) defined above in the formula, to the node_split output. The formula for this can be found in the link above\n",
    "  \n",
    "I have added comments where the algorithm has changed from above:"
   ]
  },
  {
   "cell_type": "code",
   "execution_count": 31,
   "id": "23260c93",
   "metadata": {},
   "outputs": [],
   "source": [
    "# Change the node_set items to be a tuple with the route and split id, also define these objects\n",
    "route = \"\"\n",
    "split_id = 0\n",
    "node_set = [(pd.DataFrame(np.array([X1,X2,X3,X4,y]).transpose(), columns=[\"X1\",\"X2\",\"X3\",\"X4\",\"y\"]), \n",
    "             route, split_id)]\n",
    "node_split = []\n",
    "node_set_final = []\n",
    "\n",
    "\n",
    "while len(node_set) > 0:\n",
    "    \n",
    "    node_select = node_set[0]\n",
    "    node_set.remove(node_select)\n",
    "    \n",
    "    # Add the [0] to select the data in the tuple\n",
    "    training_node = node_select[0][[\"X1\",\"X2\",\"X3\",\"X4\"]]\n",
    "    target_node = node_select[0][\"y\"]\n",
    "    \n",
    "    S = pd.DataFrame()\n",
    "    for col in training_node.columns:\n",
    "        S[col] = np.linspace(training_node[col].min(), training_node[col].max(), 100, endpoint=False)\n",
    "        if training_node[col].min() ==  training_node[col].max():\n",
    "            pass\n",
    "        else:\n",
    "            S[\"G\"+col] = S[col].apply(G, args=(training_node[col], target_node))\n",
    "        \n",
    "    col_to_split = S.drop([\"X1\",\"X2\",\"X3\",\"X4\"], axis=1).min().idxmin()\n",
    "    s = round(S[S[col_to_split] == S[col_to_split].min()][col_to_split[-2:]].median(),2)\n",
    "    \n",
    "    if S.drop([\"X1\",\"X2\",\"X3\",\"X4\"], axis=1).sum(axis=1).min() == 0:\n",
    "        node_set_final.append(node_select)\n",
    "    else:\n",
    "        \n",
    "        # If a split happends then add 1 to the split id\n",
    "        split_id += 1\n",
    "        node_set_left = node_select[0][node_select[0][col_to_split[-2:]] >= s]\n",
    "        node_set_right = node_select[0][node_select[0][col_to_split[-2:]] < s]\n",
    "        if len(node_set_left[\"X1\"]) < 3:\n",
    "            \n",
    "            # Add a 0 to the route to signify it is a left branch (less than) and include the split id\n",
    "            node_set_final.append((node_set_left, node_select[1] + \"0\", split_id))\n",
    "        else:\n",
    "            \n",
    "            # Set the minimum samples split to 2\n",
    "            node_set.append((node_set_left, node_select[1] + \"0\", split_id))\n",
    "        if len(node_set_right[\"X1\"]) < 3:\n",
    "            \n",
    "            # Add a 1 to the route to signify it is a right branch (greater than) and include the split id\n",
    "            node_set_final.append((node_set_right, node_select[1] + \"1\", split_id))\n",
    "        else:\n",
    "            node_set.append((node_set_right, node_select[1] + \"1\", split_id))\n",
    "        \n",
    "        # Calculate the node training error\n",
    "        node_training_error = sum(node_select[0][\"y\"] != node_select[0][\"y\"].mode()[0])/150\n",
    "        \n",
    "        # Add the split id, node training error and the route of the node set selected\n",
    "        # Here the route shows where the split is being applied, i.e. the route of the node selected\n",
    "        node_split.append((col_to_split[-2:], s, split_id, node_select[1], node_training_error))"
   ]
  },
  {
   "cell_type": "code",
   "execution_count": 32,
   "id": "7ab41c4f",
   "metadata": {},
   "outputs": [
    {
     "data": {
      "text/plain": [
       "[('X3', 2.45, 1, '', 0.6666666666666666),\n",
       " ('X4', 1.75, 2, '0', 0.3333333333333333),\n",
       " ('X3', 4.84, 3, '00', 0.006666666666666667),\n",
       " ('X3', 4.95, 4, '01', 0.03333333333333333),\n",
       " ('X1', 5.95, 5, '001', 0.006666666666666667),\n",
       " ('X4', 1.55, 6, '010', 0.013333333333333334),\n",
       " ('X4', 1.65, 7, '011', 0.006666666666666667),\n",
       " ('X1', 6.95, 8, '0100', 0.006666666666666667)]"
      ]
     },
     "execution_count": 32,
     "metadata": {},
     "output_type": "execute_result"
    }
   ],
   "source": [
    "node_split"
   ]
  },
  {
   "cell_type": "markdown",
   "id": "14698c7d",
   "metadata": {},
   "source": [
    "Now we need to calculate the alpha for each inner node i.e. at each split in the node_split. We define a sub_leaves object that takes the subset of leaves of node t. We do this using the route of the splits and the leaf nodes. \n",
    "\n",
    "R(T) is the misclassification rate of that node, multiplied by the proportion of the total dataset that makes it to node t. I have made this a function since we will need to repeat it. It outputs the split_id, route, g(t) and the number of sub leaves for each node."
   ]
  },
  {
   "cell_type": "code",
   "execution_count": 33,
   "id": "875f7a07",
   "metadata": {},
   "outputs": [],
   "source": [
    "def alpha(node_set, node_split):\n",
    "    alpha = []\n",
    "    for split in node_split:\n",
    "        sub_leaves = [node for node in node_set if split[3] == node[1][:len(split[3])]]\n",
    "        R_t = split[4]\n",
    "        R_T = sum([sum(leaf[0][\"y\"] != leaf[0][\"y\"].mode()[0]) / 150 for leaf in sub_leaves]) \n",
    "        g_t =( R_t - R_T ) / (len(sub_leaves) - 1)\n",
    "        alpha.append((split[2], split[3], g_t, len(sub_leaves)))\n",
    "    return alpha"
   ]
  },
  {
   "cell_type": "markdown",
   "id": "7f618d70",
   "metadata": {},
   "source": [
    "The minimum alpha comes on split 3. Hence we need to prune the branch from split 3 and then re-run the alpha calculations."
   ]
  },
  {
   "cell_type": "code",
   "execution_count": 34,
   "id": "f18149f7",
   "metadata": {},
   "outputs": [
    {
     "data": {
      "text/plain": [
       "[(1, '', 0.08333333333333333, 9),\n",
       " (2, '0', 0.047619047619047616, 8),\n",
       " (3, '00', 0.0033333333333333335, 3),\n",
       " (4, '01', 0.008333333333333333, 5),\n",
       " (5, '001', 0.006666666666666667, 2),\n",
       " (6, '010', 0.006666666666666667, 3),\n",
       " (7, '011', 0.006666666666666667, 2),\n",
       " (8, '0100', 0.006666666666666667, 2)]"
      ]
     },
     "execution_count": 34,
     "metadata": {},
     "output_type": "execute_result"
    }
   ],
   "source": [
    "alpha(node_set_final, node_split)"
   ]
  },
  {
   "cell_type": "markdown",
   "id": "85f05962",
   "metadata": {},
   "source": [
    "Set the node route at which to prune."
   ]
  },
  {
   "cell_type": "code",
   "execution_count": 35,
   "id": "e3c67bc3",
   "metadata": {},
   "outputs": [],
   "source": [
    "route = \"00\""
   ]
  },
  {
   "cell_type": "markdown",
   "id": "d7b3575a",
   "metadata": {},
   "source": [
    "To perform the pruning I will create a new set of nodes with 00 in the route, i.e. the leaf nodes after split 3 and concatenate them. Then add in the other leaf nodes. We also need to adjust the node_split object to remove any nodes that have been pruned. Again this will be a repeatable process hence I will create a function."
   ]
  },
  {
   "cell_type": "code",
   "execution_count": 36,
   "id": "a30eddc5",
   "metadata": {},
   "outputs": [],
   "source": [
    "def prune(node_set, node_split, route):    \n",
    "    pruned_node = [node[0] for node in node_set if node[1][:len(route)] == route]\n",
    "    pruned_node = [(pd.concat([node[0] for node in node_set if node[1][:len(route)] == route]), route, 3)]\n",
    "    pruned_node += [node for node in node_set if node[1][:len(route)] != route]\n",
    "    node_split_pruned = [split for split in node_split if split[3][:len(route)] != route]\n",
    "    return pruned_node, node_split_pruned"
   ]
  },
  {
   "cell_type": "markdown",
   "id": "bec88997",
   "metadata": {},
   "source": [
    "We run the function to perform the pruning and produce a pruned node_set and pruned node_split."
   ]
  },
  {
   "cell_type": "code",
   "execution_count": 37,
   "id": "3c6bdd72",
   "metadata": {},
   "outputs": [],
   "source": [
    "pruned_node_1, split_pruned_1 = prune(node_set_final, node_split, route)"
   ]
  },
  {
   "cell_type": "markdown",
   "id": "1ec4a719",
   "metadata": {},
   "source": [
    "Then we can re-run the alpha calculations on our pruned tree:"
   ]
  },
  {
   "cell_type": "code",
   "execution_count": 38,
   "id": "b61885bd",
   "metadata": {
    "scrolled": false
   },
   "outputs": [
    {
     "data": {
      "text/plain": [
       "[(1, '', 0.10999999999999999, 7),\n",
       " (2, '0', 0.06533333333333333, 6),\n",
       " (4, '01', 0.008333333333333333, 5),\n",
       " (6, '010', 0.006666666666666667, 3),\n",
       " (7, '011', 0.006666666666666667, 2),\n",
       " (8, '0100', 0.006666666666666667, 2)]"
      ]
     },
     "execution_count": 38,
     "metadata": {},
     "output_type": "execute_result"
    }
   ],
   "source": [
    "alpha(pruned_node_1, split_pruned_1)"
   ]
  },
  {
   "cell_type": "markdown",
   "id": "13c6d61b",
   "metadata": {},
   "source": [
    "In this instance we would again prune one of the nodes with the minimum g(t). In this case we have a number of minimum = 0.00667. According to the article when there a tie in minimum g(t) we take the node that will prune the fewest nodes. Since we have two nodes with equal g(t) and 2 dependent nodes I will chose to prune at split 8."
   ]
  },
  {
   "cell_type": "markdown",
   "id": "f8dcb29b",
   "metadata": {},
   "source": [
    "Let's set up a loop that prunes our tree recursively, and save each tree (leaf nodes and splits) and the corresponding alpha."
   ]
  },
  {
   "cell_type": "code",
   "execution_count": 39,
   "id": "101068fb",
   "metadata": {},
   "outputs": [
    {
     "data": {
      "text/plain": [
       "[(1, '', 0.08333333333333333, 9),\n",
       " (2, '0', 0.047619047619047616, 8),\n",
       " (3, '00', 0.0033333333333333335, 3),\n",
       " (4, '01', 0.008333333333333333, 5),\n",
       " (5, '001', 0.006666666666666667, 2),\n",
       " (6, '010', 0.006666666666666667, 3),\n",
       " (7, '011', 0.006666666666666667, 2),\n",
       " (8, '0100', 0.006666666666666667, 2)]"
      ]
     },
     "execution_count": 39,
     "metadata": {},
     "output_type": "execute_result"
    }
   ],
   "source": [
    "alpha_list = alpha(node_set_final, node_split)\n",
    "alpha_list"
   ]
  },
  {
   "cell_type": "code",
   "execution_count": 40,
   "id": "b896ae06",
   "metadata": {
    "scrolled": true
   },
   "outputs": [],
   "source": [
    "tree_storage = [(node_set_final, node_split, 0)]\n",
    "alpha_list = alpha(node_set_final, node_split)\n",
    "node_to_be_pruned = node_set_final\n",
    "split_to_be_pruned = node_split\n",
    "\n",
    "while len(alpha_list) > 0:\n",
    "    \n",
    "    # Select the minimum g(t) and assign it to be alpha0, alpha1 etc..\n",
    "    alpha_i = np.array([alph[2] for alph in alpha_list]).min()\n",
    "    \n",
    "    # Select the route with minimum g(t), there might be multiple hence select the last/deepest one\n",
    "    route = [alph[1] for alph in alpha_list if alph[2] == alpha_i][-1]\n",
    "    \n",
    "    # Prune the tree, starting with the initial tree, and assign to be pruned again in the recursion\n",
    "    node_to_be_pruned, split_to_be_pruned = prune(node_to_be_pruned, split_to_be_pruned, route)\n",
    "    \n",
    "    # Add the newly pruned tree and alpha value for that tree \n",
    "    tree_storage.append((node_to_be_pruned, split_to_be_pruned, alpha_i))\n",
    "    \n",
    "    # Calculate the g(t) for each node of the new pruned tree and repeat the process until there are no nodes left\n",
    "    alpha_list = alpha(node_to_be_pruned, split_to_be_pruned)\n"
   ]
  },
  {
   "cell_type": "markdown",
   "id": "de9df7cd",
   "metadata": {},
   "source": [
    "We can view our sequence of alphas, and we know that the corresponding tree is saved within the tree storage object for when we need it later."
   ]
  },
  {
   "cell_type": "code",
   "execution_count": 41,
   "id": "818d1ec6",
   "metadata": {},
   "outputs": [
    {
     "data": {
      "text/plain": [
       "[0,\n",
       " 0.0033333333333333335,\n",
       " 0.006666666666666667,\n",
       " 0.006666666666666667,\n",
       " 0.006666666666666667,\n",
       " 0.013333333333333332,\n",
       " 0.29333333333333333,\n",
       " 0.3333333333333333]"
      ]
     },
     "execution_count": 41,
     "metadata": {},
     "output_type": "execute_result"
    }
   ],
   "source": [
    "[i[2] for i in tree_storage]"
   ]
  },
  {
   "cell_type": "markdown",
   "id": "4ad1858b",
   "metadata": {},
   "source": [
    "We can interpret with sequence as such: at alpha = 0 the initial tree produced the minimal regularised loss. For alpha between 0 and 0.0033 the tree pruned once would give the minimal regularised loss, and so on. Several tree give the same value of alpha, implying they all minimise the loss equally."
   ]
  },
  {
   "cell_type": "markdown",
   "id": "c4f9eec4",
   "metadata": {},
   "source": [
    "To determine a the optimum value for alpha, we need to use K-fold cross validation. This would re-building the tree K times, on k folds of training data, pruning each one and getting an accuracy score for each subset tree. This would be possible but would be arduous in this format. As a result I am going to choose alpha on a simple training and validation split."
   ]
  },
  {
   "cell_type": "code",
   "execution_count": 42,
   "id": "c5153f78",
   "metadata": {},
   "outputs": [],
   "source": [
    "from sklearn.model_selection import train_test_split\n",
    "X = pd.DataFrame(np.array([X1,X2,X3,X4]).transpose(), columns=[\"X1\",\"X2\",\"X3\",\"X4\"])\n",
    "y.rename(\"y\", inplace=True)\n",
    "X_train, X_test, y_train, y_test = train_test_split(X, y, test_size=0.3, random_state=1)"
   ]
  },
  {
   "cell_type": "markdown",
   "id": "d0ea49e6",
   "metadata": {},
   "source": [
    "Now we can re-run our tree build on just the training sample."
   ]
  },
  {
   "cell_type": "code",
   "execution_count": 43,
   "id": "b1dc80fe",
   "metadata": {},
   "outputs": [],
   "source": [
    "# Change the node_set items to be a tuple with the route and split id, also define these objects\n",
    "route = \"\"\n",
    "split_id = 0\n",
    "node_set = [(pd.concat((X_train,y_train), axis=1), route, split_id)]\n",
    "node_split = []\n",
    "node_set_final = []\n",
    "\n",
    "\n",
    "while len(node_set) > 0:\n",
    "    \n",
    "    node_select = node_set[0]\n",
    "    node_set.remove(node_select)\n",
    "    \n",
    "    # Add the [0] to select the data in the tuple\n",
    "    training_node = node_select[0][[\"X1\",\"X2\",\"X3\",\"X4\"]]\n",
    "    target_node = node_select[0][\"y\"]\n",
    "    \n",
    "    S = pd.DataFrame()\n",
    "    for col in training_node.columns:\n",
    "        S[col] = np.linspace(training_node[col].min(), training_node[col].max(), 100, endpoint=False)\n",
    "        if training_node[col].min() ==  training_node[col].max():\n",
    "            pass\n",
    "        else:\n",
    "            S[\"G\"+col] = S[col].apply(G, args=(training_node[col], target_node))\n",
    "        \n",
    "    col_to_split = S.drop([\"X1\",\"X2\",\"X3\",\"X4\"], axis=1).min().idxmin()\n",
    "    s = round(S[S[col_to_split] == S[col_to_split].min()][col_to_split[-2:]].median(),2)\n",
    "    \n",
    "    if S.drop([\"X1\",\"X2\",\"X3\",\"X4\"], axis=1).sum(axis=1).min() == 0:\n",
    "        node_set_final.append(node_select)\n",
    "    else:\n",
    "        \n",
    "        # If a split happends then add 1 to the split id\n",
    "        split_id += 1\n",
    "        node_set_left = node_select[0][node_select[0][col_to_split[-2:]] >= s]\n",
    "        node_set_right = node_select[0][node_select[0][col_to_split[-2:]] < s]\n",
    "        if len(node_set_left[\"X1\"]) < 3:\n",
    "            \n",
    "            # Add a 0 to the route to signify it is a left branch (less than) and include the split id\n",
    "            node_set_final.append((node_set_left, node_select[1] + \"0\", split_id))\n",
    "        else:\n",
    "            node_set.append((node_set_left, node_select[1] + \"0\", split_id))\n",
    "        if len(node_set_right[\"X1\"]) < 3:\n",
    "            \n",
    "            # Add a 1 to the route to signify it is a right branch (greater than) and include the split id\n",
    "            node_set_final.append((node_set_right, node_select[1] + \"1\", split_id))\n",
    "        else:\n",
    "            node_set.append((node_set_right, node_select[1] + \"1\", split_id))\n",
    "        \n",
    "        # Calculate the node training error\n",
    "        node_training_error = sum(node_select[0][\"y\"] != node_select[0][\"y\"].mode()[0])/150\n",
    "        \n",
    "        # Add the split id, node training error and the route of the node set selected\n",
    "        # Here the route shows where the split is being applied, i.e. the route of the node selected\n",
    "        node_split.append((col_to_split[-2:], s, split_id, node_select[1], node_training_error))"
   ]
  },
  {
   "cell_type": "markdown",
   "id": "dab1df19",
   "metadata": {},
   "source": [
    "Let's have a look at our new tree. We can see that are are fewer nodes, which is to be expected with a smaller dataset. This is one reason why cross validation is more appropriate when deriving alpha for real."
   ]
  },
  {
   "cell_type": "code",
   "execution_count": 44,
   "id": "11d8f94c",
   "metadata": {},
   "outputs": [
    {
     "data": {
      "text/plain": [
       "[('X3', 2.59, 1, '', 0.4533333333333333),\n",
       " ('X4', 1.65, 2, '0', 0.21333333333333335),\n",
       " ('X3', 4.85, 3, '00', 0.006666666666666667),\n",
       " ('X3', 4.99, 4, '01', 0.02),\n",
       " ('X2', 3.1, 5, '001', 0.006666666666666667),\n",
       " ('X1', 6.05, 6, '010', 0.006666666666666667)]"
      ]
     },
     "execution_count": 44,
     "metadata": {},
     "output_type": "execute_result"
    }
   ],
   "source": [
    "node_split"
   ]
  },
  {
   "cell_type": "markdown",
   "id": "31cd80c9",
   "metadata": {},
   "source": []
  },
  {
   "cell_type": "markdown",
   "id": "491784c7",
   "metadata": {},
   "source": [
    "On our new tree we can re-run the pruning process calculating the alpha for each pruned tree and storing them in a tree_storage_train object."
   ]
  },
  {
   "cell_type": "code",
   "execution_count": 45,
   "id": "9b66c36c",
   "metadata": {},
   "outputs": [],
   "source": [
    "tree_storage_train = [(node_set_final, node_split, 0)]\n",
    "alpha_list = alpha(node_set_final, node_split)\n",
    "node_to_be_pruned = node_set_final\n",
    "split_to_be_pruned = node_split\n",
    "\n",
    "while len(alpha_list) > 0:\n",
    "    \n",
    "    # Select the minimum g(t) and assign it to be alpha0, alpha1 etc..\n",
    "    alpha_i = np.array([alph[2] for alph in alpha_list]).min()\n",
    "    \n",
    "    # Select the route with minimum g(t), there might be multiple hence select the last/deepest one\n",
    "    route = [alph[1] for alph in alpha_list if alph[2] == alpha_i][-1]\n",
    "    \n",
    "    # Prune the tree, starting with the initial tree, and assign to be pruned again in the recursion\n",
    "    node_to_be_pruned, split_to_be_pruned = prune(node_to_be_pruned, split_to_be_pruned, route)\n",
    "    \n",
    "    # Add the newly pruned tree and alpha value for that tree \n",
    "    tree_storage_train.append((node_to_be_pruned, split_to_be_pruned, alpha_i))\n",
    "    \n",
    "    # Calculate the g(t) for each node of the new pruned tree and repeat the process until there are no nodes left\n",
    "    alpha_list = alpha(node_to_be_pruned, split_to_be_pruned)\n"
   ]
  },
  {
   "cell_type": "markdown",
   "id": "43c05082",
   "metadata": {},
   "source": [
    "Let's look at the sequence of alphas on the tree built on our training set. We can see between the "
   ]
  },
  {
   "cell_type": "code",
   "execution_count": 46,
   "id": "df9ee088",
   "metadata": {},
   "outputs": [
    {
     "data": {
      "text/plain": [
       "[0,\n",
       " 0.0033333333333333335,\n",
       " 0.006666666666666667,\n",
       " 0.013333333333333332,\n",
       " 0.18666666666666668,\n",
       " 0.23999999999999996]"
      ]
     },
     "execution_count": 46,
     "metadata": {},
     "output_type": "execute_result"
    }
   ],
   "source": [
    "[i[2] for i in tree_storage_train]"
   ]
  },
  {
   "cell_type": "markdown",
   "id": "36345dd2",
   "metadata": {},
   "source": [
    "To determine our optimum value of alpha we need to make predictions using each tree and score their accuracy. Then we will have an accuracy score for each alpha, from which we pick alpha with the highest accuracy."
   ]
  },
  {
   "cell_type": "markdown",
   "id": "64210bbf",
   "metadata": {},
   "source": [
    "Our previous prediction method is now no longer viable, since it required the predictors to be within the bounds of the training dataset, since we have split this up we may have test observations that do not lie within the bounds of our leaf nodes. As a result I have re-written the predict function to chose a leaf node based on the route. This is a much more robust way of predicting and follows the logic of a decision tree much more closely, and on reflection I should have included it initially. However, as a I stated in the introduction I wanted this article to show my progression in building this model and the learnings I had along the way."
   ]
  },
  {
   "cell_type": "code",
   "execution_count": 47,
   "id": "2fe87425",
   "metadata": {},
   "outputs": [],
   "source": [
    "def predict(X, node_set, node_split):\n",
    "    predict = []\n",
    "    for index, x in X.iterrows():\n",
    "        route = \"\"\n",
    "        for split in node_split:\n",
    "            if route == split[3]:\n",
    "                if x[split[0]] >= split[1]:\n",
    "                    route += \"0\"\n",
    "                else:\n",
    "                    route += \"1\"\n",
    "\n",
    "        predict.append([node for node in node_set if node[1] == route][0][0][\"y\"].mode()[0])\n",
    "    return predict\n",
    "    "
   ]
  },
  {
   "cell_type": "markdown",
   "id": "110be4d5",
   "metadata": {},
   "source": [
    "Now we make a prediction for each tree we created during our pruning process. I have shown below each alpha and the corresponding prediction accuracy."
   ]
  },
  {
   "cell_type": "code",
   "execution_count": 48,
   "id": "240e8438",
   "metadata": {},
   "outputs": [
    {
     "data": {
      "text/plain": [
       "[(0, 0.9555555555555556),\n",
       " (0.0033333333333333335, 0.9555555555555556),\n",
       " (0.006666666666666667, 0.9777777777777777),\n",
       " (0.013333333333333332, 0.9555555555555556),\n",
       " (0.18666666666666668, 0.6),\n",
       " (0.23999999999999996, 0.28888888888888886)]"
      ]
     },
     "execution_count": 48,
     "metadata": {},
     "output_type": "execute_result"
    }
   ],
   "source": [
    "alpha_pred_error = []\n",
    "for tree in tree_storage_train:\n",
    "    \n",
    "    pred = predict(X_test, node_set=tree[0], node_split=tree[1])\n",
    "    accuracy = sum(y_test == pred) / len(pred)\n",
    "    alpha_pred_error.append((tree[2],accuracy))\n",
    "    \n",
    "alpha_pred_error"
   ]
  },
  {
   "cell_type": "markdown",
   "id": "7d9e4094",
   "metadata": {},
   "source": [
    "Prediction accuracy is highes at alpha = 0.00667. We had multiple trees at this value of alpha. Let's take a quick look at these:"
   ]
  },
  {
   "cell_type": "code",
   "execution_count": 49,
   "id": "d4782528",
   "metadata": {},
   "outputs": [
    {
     "data": {
      "text/plain": [
       "[[('X3', 2.45, 1, '', 0.6666666666666666),\n",
       "  ('X4', 1.75, 2, '0', 0.3333333333333333),\n",
       "  ('X3', 4.95, 4, '01', 0.03333333333333333),\n",
       "  ('X4', 1.55, 6, '010', 0.013333333333333334),\n",
       "  ('X4', 1.65, 7, '011', 0.006666666666666667)],\n",
       " [('X3', 2.45, 1, '', 0.6666666666666666),\n",
       "  ('X4', 1.75, 2, '0', 0.3333333333333333),\n",
       "  ('X3', 4.95, 4, '01', 0.03333333333333333),\n",
       "  ('X4', 1.55, 6, '010', 0.013333333333333334)],\n",
       " [('X3', 2.45, 1, '', 0.6666666666666666),\n",
       "  ('X4', 1.75, 2, '0', 0.3333333333333333),\n",
       "  ('X3', 4.95, 4, '01', 0.03333333333333333)]]"
      ]
     },
     "execution_count": 49,
     "metadata": {},
     "output_type": "execute_result"
    }
   ],
   "source": [
    "[i[1] for i in tree_storage if 0.0066 < i[2] < 0.0067]"
   ]
  },
  {
   "cell_type": "markdown",
   "id": "21356470",
   "metadata": {},
   "source": [
    "We have three trees, with 3, 4 and 5 inner nodes respectively. Each have the same regularised loss and hence under this method we would be justified in picking any one. We would just be trading off the risk of over-fitting with accuracy."
   ]
  },
  {
   "cell_type": "markdown",
   "id": "ecd60425",
   "metadata": {},
   "source": [
    "Realistically, we would need to perform cross validation to get a less uncertain prediction for alpha. I have played around with the random state of our train, validation split and our prediction for alpha has a high variance. This is likely due to the size of the dataset too. Overall we have still managed to follow the process of building and pruning a decision tree from scratch, it was a long process but we got there!"
   ]
  },
  {
   "cell_type": "markdown",
   "id": "368f14d7",
   "metadata": {},
   "source": [
    "I think this had been the most interesting and rewarding 'build your own' ML model I hav done so far. It has certianly been the most challenging. Please let me know any feedback you have using the contact sheet below!"
   ]
  }
 ],
 "metadata": {
  "hide_input": false,
  "kernelspec": {
   "display_name": "Python 3 (ipykernel)",
   "language": "python",
   "name": "python3"
  },
  "language_info": {
   "codemirror_mode": {
    "name": "ipython",
    "version": 3
   },
   "file_extension": ".py",
   "mimetype": "text/x-python",
   "name": "python",
   "nbconvert_exporter": "python",
   "pygments_lexer": "ipython3",
   "version": "3.11.7"
  }
 },
 "nbformat": 4,
 "nbformat_minor": 5
}
